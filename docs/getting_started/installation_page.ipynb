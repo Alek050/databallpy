{
 "cells": [
  {
   "cell_type": "markdown",
   "id": "8e214dc7-dd81-40c1-b19a-d922644ff3c9",
   "metadata": {},
   "source": [
    "<div align=\"center\">\n",
    "  <img src=\"https://github.com/Alek050/databallpy/assets/49450063/56100e87-c680-4dc1-82e5-4aa8fdbc8a34\" />\n",
    "</div>\n",
    "\n",
    "# Installation\n",
    "\n",
    "DataBallPy is available on the Python Package Index (PyPI), which is a repository of software for the Python programming language. PyPI makes it easy for Python developers to share and install software. To install DataBallPy, you can use pip, which is a package installer for Python and comes pre-installed with most Python distributions.\n",
    "\n",
    "Here's the command to install DataBallPy:\n",
    "\n",
    "```python\n",
    "pip install databallpy\n",
    "```\n",
    "\n",
    "This command tells pip to download the DataBallPy package from PyPI and install it on your machine.\n",
    "\n",
    "<div align=\"center\">\n",
    "  <a href=\"https://pypi.org/project/databallpy/\">\n",
    "      <img src=\"https://www.softwareheritage.org/wp-content/uploads/2018/10/logo-large.png\" alt=\"PyPi\" width=\"200\"/>\n",
    "  </a>\n",
    "</div>\n",
    "\n",
    "## Dependencies\n",
    "\n",
    "DataBallPy has several dependencies, which are other packages that DataBallPy needs to function correctly. When you install DataBallPy using pip, these dependencies are automatically installed. Here are some of the key dependencies and why they're necessary:\n",
    "\n",
    "- **NumPy**: This is a package for numerical computing in Python. DataBallPy uses NumPy for efficient computation with arrays of data.\n",
    "- **Pandas**: This is a data analysis library. DataBallPy uses Pandas for data manipulation and analysis.\n",
    "- **Matplotlib**: This is a plotting library. DataBallPy uses Matplotlib to create visualizations of the data.\n",
    "\n",
    "These dependencies provide the building blocks that DataBallPy uses to implement its features. By standing on the shoulders of these giants, DataBallPy can focus on providing a great experience for analyzing soccer matches using both event and tracking data.\n",
    "\n",
    "Remember, it's always a good idea to work in a virtual environment when installing Python packages. This helps to keep your global environment clean and manage dependencies effectively. Good luck with your installation!\n"
   ]
  }
 ],
 "metadata": {
  "kernelspec": {
   "display_name": "Python 3 (ipykernel)",
   "language": "python",
   "name": "python3"
  },
  "language_info": {
   "codemirror_mode": {
    "name": "ipython",
    "version": 3
   },
   "file_extension": ".py",
   "mimetype": "text/x-python",
   "name": "python",
   "nbconvert_exporter": "python",
   "pygments_lexer": "ipython3",
   "version": "3.12.0"
  }
 },
 "nbformat": 4,
 "nbformat_minor": 5
}
