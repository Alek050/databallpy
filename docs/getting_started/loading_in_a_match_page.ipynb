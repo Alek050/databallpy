{
 "cells": [
  {
   "cell_type": "markdown",
   "metadata": {},
   "source": [
    "<div align=\"center\">\n",
    "  <img src=\"https://github.com/Alek050/databallpy/assets/49450063/56100e87-c680-4dc1-82e5-4aa8fdbc8a34\" alt=\"Logo\">\n",
    "</div>\n",
    "\n",
    "# Loading in a Match\n",
    "\n",
    "Almost all usable features are centered around the `Match` object. The `Match` essentially contains all information you need to know to get started with your analysis. We will go over all information that is stored here and you might want to use, but lets first load in the match. You can choose to load in a match with your own data, or choose to download a open sourced match. To the match with you own data you can run the following code:\n",
    "\n",
    "```python\n",
    "from databallpy import get_match, get_open_match\n",
    "\n",
    "match = get_match(\n",
    "  tracking_data_loc=\"../data/tracking_data.dat\",\n",
    "  tracking_metadata_loc=\"../data/tracking_metadata.xml\",\n",
    "  tracking_data_provider=\"tracab\"\n",
    "  event_data_loc=\"../data/event_data_f24.xml\",\n",
    "  event_metadata_loc=\"../data/event_metadata_f7.xml\",\n",
    "  event_data_provider=\"opta\",\n",
    ")\n",
    "\n",
    "# or get the open match provided by Metrica\n",
    "match = get_open_match()\n",
    "```\n",
    "\n",
    "```{note}\n",
    "The current supported tracking data providers are:\n",
    "\n",
    "- Tracab\n",
    "- Metrica\n",
    "- Inmotio\n",
    "\n",
    "The current supported event data provider are:\n",
    "- Opta\n",
    "- Metrica\n",
    "- Instat\n",
    "\n",
    "If you wish to use a different provider that is not listed here, please open an issue [here](https://github.com/Alek050/databallpy/issues)\n",
    "```\n",
    "\n",
    "```{warning}\n",
    "It is perfectly fine to load your `Match` object with only tracking- or only event data. However, not that some features require both data streams, and will therefore raise an error when called.\n",
    "\n",
    "```\n",
    "\n",
    "For the sake of reproducability we will use the open match provided by Metrica in this example:"
   ]
  },
  {
   "cell_type": "code",
   "execution_count": 1,
   "metadata": {},
   "outputs": [
    {
     "name": "stdout",
     "output_type": "stream",
     "text": [
      "The current version of databallpy is 0.4.3\n"
     ]
    }
   ],
   "source": [
    "from databallpy import get_open_match, __version__\n",
    "\n",
    "print(f\"The current version of databallpy is {__version__}\")"
   ]
  },
  {
   "cell_type": "markdown",
   "metadata": {},
   "source": [
    "```python\n",
    "match = get_open_match(verbose=False)\n",
    "```"
   ]
  },
  {
   "cell_type": "code",
   "execution_count": 1,
   "metadata": {
    "tags": [
     "remove-cell"
    ]
   },
   "outputs": [],
   "source": [
    "from databallpy import get_saved_match\n",
    "import os\n",
    "match = get_saved_match(\"open_metrica\", os.path.join(os.getcwd(), \"..\", \"saved_matches\"))"
   ]
  },
  {
   "cell_type": "markdown",
   "metadata": {},
   "source": [
    "Simple as that! Note that it might take a few seconds to load in your data. On top of that, it might be different for different data providers. Currently, the package is mostly optimized for loading tracab and opta data. For the other providers, without a doubt, improvements in performance can be made. All suggestions are welcome.\n",
    "\n",
    "## Match Attributes \n",
    "\n",
    "### Metadata\n",
    "\n",
    "Before looking at the tracking and event data, lets first investigate the metadata of the match that is available. Firstly the match specific metadata:\n",
    "- The end score\n",
    "- The date\n",
    "- The pitch dimensions\n",
    "- The periods DataFrame"
   ]
  },
  {
   "cell_type": "code",
   "execution_count": 2,
   "metadata": {},
   "outputs": [
    {
     "name": "stdout",
     "output_type": "stream",
     "text": [
      "Match name: Team A 0 - 2 Team B 2019-02-21 03:30:07\n",
      "\n",
      "Match home team score: 0 and the match away team score 2\n",
      "\n",
      "The pitch length: 105.0 (m), and pitch width: 68.0 (m)\n",
      "\n",
      "Info about the first half periods: \n",
      " period_id                                           1\n",
      "start_frame                                         1\n",
      "end_frame                                       69661\n",
      "start_datetime_td           2019-02-21 03:30:07+00:00\n",
      "end_datetime_td      2019-02-21 04:16:33.400000+00:00\n",
      "start_datetime_ed           2019-02-21 03:30:07+00:00\n",
      "end_datetime_ed      2019-02-21 04:16:33.400000+00:00\n",
      "Name: 0, dtype: object\n"
     ]
    }
   ],
   "source": [
    "print(f\"Match name: {match.name}\\n\")\n",
    "print(f\"Match home team score: {match.home_score} and the match away team score {match.away_score}\\n\")\n",
    "print(f\"The pitch length: {match.pitch_dimensions[0]} (m), and pitch width: {match.pitch_dimensions[1]} (m)\\n\")\n",
    "print(f\"Info about the first half periods: \\n\", match.periods.iloc[0])"
   ]
  },
  {
   "cell_type": "markdown",
   "metadata": {},
   "source": [
    "Most of these are rather simple, but important to be able to access easily. The `periods` might require a little extra information. For every `period_id`, it hold information about both the tracking and the event data. `td` is short for \"tracking_data\" and `ed` for `event_data`. So in this match, the last frame of the first half (since `period_id` is 1), is 69661. Since both tracking and event data are provided by Metrica, the datetimes are already perfectly aligned. This is often not te case when using different tracking and event data providers. In this case, the start and end datetime thus refer to the start and end datetime of the first half.\n",
    "\n",
    "```{note}\n",
    "`period_id`\"\n",
    "- 1 = the first half\n",
    "- 2 = the second half\n",
    "- 3 = the first half of additional time\n",
    "- 4 = the second half of the additional time\n",
    "- 5 = the penalty shootout\n",
    "```\n",
    "\n",
    "### Team and Player Information\n",
    "\n",
    "Some aditional team information stored in the `Match`. On top of that, information about the players is crucial for individual player and group analysis.\n",
    "\n",
    "- team id\n",
    "- team name\n",
    "- team formation\n",
    "- team players"
   ]
  },
  {
   "cell_type": "code",
   "execution_count": 3,
   "metadata": {},
   "outputs": [
    {
     "name": "stdout",
     "output_type": "stream",
     "text": [
      "The home team id = FIFATMA\n",
      "\n",
      "The away team name = FIFATMB\n",
      "\n",
      "The home team formation = 1451\n",
      "\n",
      "The first away team player is:\n",
      " id                       3595\n",
      "full_name           Player 28\n",
      "formation_place             0\n",
      "position           goalkeeper\n",
      "starter                  True\n",
      "shirt_num                  28\n",
      "start_frame              -999\n",
      "end_frame                -999\n",
      "Name: 0, dtype: object\n"
     ]
    }
   ],
   "source": [
    "print(f\"The home team id = {match.home_team_id}\\n\")\n",
    "print(f\"The away team name = {match.away_team_id}\\n\")\n",
    "print(f\"The home team formation = {match.home_formation}\\n\")\n",
    "print(\"The first away team player is:\\n\", match.away_players.iloc[0])"
   ]
  },
  {
   "cell_type": "markdown",
   "metadata": {},
   "source": [
    "The team names are anonimized by Metrica to open source the data. You can also see that the home team appears to have started at a 4-5-1 formation. Lastly, for every player, some important information is stored in the `match.away_players` dataframe. For instance, here you can find the player id, position, shirt number, etc. \n",
    "\n",
    "```{important}\n",
    "The start and end frame normally represent the frames where the players started the match, and when they ended the match. However, for Metrica we did not implement this yet. Therefore the value is -999. This is the default value for a missing integer value in DataBallPy. This is chosen since making it `NaN` would change to full column to a `float64` object, while it should stay of type integer.\n",
    "```\n",
    "\n",
    "## Tracking Data\n",
    "\n",
    "Tracking data captures the locations of all players and the ball, normally between 10 and 25 frames per second. This means that a pandas dataframe filled with these values have up to 200.000 rows. It is not really usefull to show how this dataframe looks like, but I will go over some other important additional information, and show all the preprocessing that has been done before getting to this cleaned format.\n",
    "\n",
    "- the tracking data\n",
    "- frame rate\n",
    "- tracking data provider"
   ]
  },
  {
   "cell_type": "code",
   "execution_count": 4,
   "metadata": {},
   "outputs": [
    {
     "name": "stdout",
     "output_type": "stream",
     "text": [
      "The tracking data provider = metrica\n",
      "\n",
      "The tracking data frames per second = 25\n",
      "\n",
      "The tracking data dataframe:\n",
      "    frame  ball_x ball_status  home_11_x  away_32_y  period_id matchtime_td\n",
      "0      1     NaN        dead   -36.4581        NaN          1        00:00\n",
      "1      2     NaN        dead   -36.4581        NaN          1        00:00\n",
      "2      3     NaN        dead   -36.4581        NaN          1        00:00\n",
      "3      4     NaN        dead   -36.4581        NaN          1        00:00\n",
      "4      5     NaN        dead   -36.4581        NaN          1        00:00\n"
     ]
    }
   ],
   "source": [
    "print(f\"The tracking data provider = {match.tracking_data_provider}\\n\")\n",
    "print(f\"The tracking data frames per second = {match.frame_rate}\\n\")\n",
    "print(f\"The tracking data dataframe:\\n\", match.tracking_data[[\"frame\", \"ball_x\", \"ball_status\", \"home_11_x\", \"away_32_y\", \"period_id\", \"matchtime_td\"]].head())"
   ]
  },
  {
   "cell_type": "markdown",
   "metadata": {},
   "source": [
    "As you can see, the tracking data of a match is simply a pandas dataframe, making it easy to perform manipulation or filtering on the data. The tracking data has a few distinct columns:\n",
    "\n",
    "- Frame information: Depending on the provider, the frame number will start at 1 or at a timestamp for that day. In this case, it starts at one and counts up as time proceeds with 25 fps.\n",
    "\n",
    "- Ball information: `ball_x`, `ball_y`, and `ball_z` give information about the position of the ball on the pitch. Be cautious with `ball_z` since it often is poor quality data. `ball_status` is either `dead` or `alive`, indication whether the game is playing or not. `ball_possession` indicates what team has possession of the ball. The values can either be `home`, `away`, or `None`. For Metrica data it is put to `None` since the data does not indicate which team has possession. Later, you will see how you can use the event data to guess the team that is in ball possession.\n",
    "\n",
    "- Player information: For every player the x (length) and y (width) coordinate are presented. The column name is based on the team the side the player plays for (either `home` or `away`), the jersey number of that player, and the type of data that is presented (x coordinate or y coordinate). The column name for the x-coordinate of the player that plays for the home team with jersey 12 is thus `home_12_x`.\n",
    "\n",
    "- General match information: The `period_id` indicates what period of the match is played. A period id of `1` refers to the first half of the match, while `2` refers to the second half. The `matchtime_td` column gives the time in minutes:seconds of the match to give an indication of how far the match is along. It also tracks extra time, see the example below:"
   ]
  },
  {
   "cell_type": "code",
   "execution_count": 5,
   "metadata": {},
   "outputs": [
    {
     "name": "stdout",
     "output_type": "stream",
     "text": [
      "         frame  ball_x ball_status  home_11_x  away_32_y  period_id  \\\n",
      "143756  143757     NaN        dead  -39.90735    8.39732          2   \n",
      "143757  143758     NaN        dead  -39.90735    8.43404          2   \n",
      "143758  143759     NaN        dead  -39.90735    8.48572          2   \n",
      "143759  143760     NaN        dead  -39.90735    8.57548          2   \n",
      "143760  143761     NaN        dead  -39.90735    8.94676          2   \n",
      "\n",
      "       matchtime_td  \n",
      "143756   90:00+4:23  \n",
      "143757   90:00+4:23  \n",
      "143758   90:00+4:23  \n",
      "143759   90:00+4:23  \n",
      "143760   90:00+4:23  \n"
     ]
    }
   ],
   "source": [
    "print(match.tracking_data[[\"frame\", \"ball_x\", \"ball_status\", \"home_11_x\", \"away_32_y\", \"period_id\", \"matchtime_td\"]].tail())"
   ]
  },
  {
   "cell_type": "markdown",
   "metadata": {},
   "source": [
    "### Pitch Conventions\n",
    "\n",
    "One additional important point is to talk about the pitch conventions. Event and tracking data do often not align. In most cases, event data providers (like Opta) have the positions scaled between 0 and 1. On top of that, they represent the player to which the event belongs as defending the goal at x = 0.0 and wanting to score at the goal at x = 1.0. This means that with every posession change, the playing direction of a team changes. Controversly, the tracking data providers (like tracab) often represent the situation as it is seen on tv, where teams switch half way. We choose to normalize the playing direction as follows:\n",
    "\n",
    "- The pitch center is coordinate (0, 0).\n",
    "- The coordinate values are in meters.\n",
    "- The home team is represented as playing from left to right **for the full match**.\n",
    "- The away team is represented as playing from right to left **for the full match**.\n",
    "\n",
    "See the example below:"
   ]
  },
  {
   "cell_type": "code",
   "execution_count": 6,
   "metadata": {},
   "outputs": [
    {
     "data": {
      "image/png": "[encoded data removed]",
      "text/plain": [
       "<Figure size 1200x800 with 1 Axes>"
      ]
     },
     "metadata": {},
     "output_type": "display_data"
    }
   ],
   "source": [
    "import matplotlib.pyplot as plt\n",
    "import numpy as np\n",
    "\n",
    "from matplotlib.patches import Arrow\n",
    "from databallpy.visualize import plot_soccer_pitch\n",
    "\n",
    "\n",
    "fig, ax = plot_soccer_pitch()\n",
    "\n",
    "# Add x and y ticks and labels\n",
    "ax.set_xticks(np.linspace(-53, 53, 11))\n",
    "ax.set_yticks(np.linspace(-34, 34, 11))\n",
    "ax.set_xticklabels(np.round(np.linspace(-53, 53, 11), 1))\n",
    "ax.set_yticklabels(np.round(np.linspace(-34, 34, 11), 1))\n",
    "\n",
    "ax.set_xlabel(\"x-coordinates (meters)\")\n",
    "ax.set_ylabel(\"y-coordinates (meters)\")\n",
    "\n",
    "# Add playing direciont\n",
    "ax.add_patch(Arrow(-35, 5, 30, 0, width=3, color=\"k\"))\n",
    "ax.text(-34, 7, \"Home team playing direction\")\n",
    "ax.add_patch(Arrow(35, -5, -30, 0, width=3, color=\"k\"))\n",
    "ax.text(10, -3, \"Away team playing direction\", )\n",
    "\n",
    "plt.show()"
   ]
  },
  {
   "cell_type": "markdown",
   "metadata": {},
   "source": [
    "```{note}\n",
    "In rare cases you might be interested in which halves the tracking data was swapped. This can be found in `match._periods_changed_playing_direction` which return a list with period ids where the home team actually played from right to left, instead of left to right (as it is represented in the tracking data)\n",
    "```\n",
    "```{important}\n",
    "This is the only preprocessing that is done to the tracking data:\n",
    "- Scaling of coordinate so that they represent meters\n",
    "- Translating of coordinate so that the center of the pitch is at (0, 0)\n",
    "- Mirroring the data for certain periods (halves) so that the home team is represented as playing from left (low x values) to right (high x values) for **the full match** \n",
    "```\n",
    "\n",
    "## Event data\n",
    "\n",
    "- event data\n",
    "- event data provider"
   ]
  },
  {
   "cell_type": "code",
   "execution_count": 7,
   "metadata": {},
   "outputs": [
    {
     "name": "stdout",
     "output_type": "stream",
     "text": [
      "The match event data provider = metrica\n",
      "The event data columns: Index(['event_id', 'type_id', 'databallpy_event', 'period_id', 'minutes',\n",
      "       'seconds', 'player_id', 'player_name', 'team_id', 'outcome', 'start_x',\n",
      "       'start_y', 'to_player_id', 'to_player_name', 'end_x', 'end_y',\n",
      "       'td_frame', 'metrica_event', 'datetime'],\n",
      "      dtype='object')\n"
     ]
    }
   ],
   "source": [
    "print(f\"The match event data provider = {match.event_data_provider}\")\n",
    "print(f\"The event data columns: {match.event_data.columns}\")"
   ]
  },
  {
   "cell_type": "markdown",
   "metadata": {},
   "source": [
    "Again, you can see that we are just dealing with a familiar pandas dataframe, nothing to be afraid of. Let's go through all the columns before we take a look at the data:\n",
    "\n",
    "- `event_id`: a unique id (usually an integer) for the event.\n",
    "- `type_id`: an id indicating the type of event (often only used by event data providers themselves).\n",
    "- `databallpy_event`: a string indicating the event. Since we aim to create a standardized format of event data, we need to translate the\n",
    "\n",
    "event data from the provider, in this case Metrica, to a standard event type, in this case that is `databallpy_event`. It currently can only have the values `pass`, `shot`, or `dribble`. For any other event, the value will be `None`. We aim to increase the number of databallpy events in future versions to be more complete.\n",
    "\n",
    "- `period_id`: the period that the event happened in. `1` indicating the first half and `2` the second half.\n",
    "- `minutes`: the number of minutes in the match at the time of the event.\n",
    "- `seconds`: the number of seconds in the match at the time of the event.\n",
    "- `player_id`: an unique id of the player involved in the event.\n",
    "- `player_name`: a string with the name of the player.\n",
    "- `team_id`: an unique id for which team the event belonged to.\n",
    "- `outcome`: a boolian indicating if the `databallpy_event` was successful (`True`) or not (`False`).\n",
    "- `start_x` and `start_y`: the coordinate, indicated by the event data provider, where the event took place. Note that these coordinates are scaled to fit the tracking data.\n",
    "- `metrica_event`: Since `databallpy_event` may not capture all events, we always keep in the original event data of the provider to make sure no data is lost in the process.\n",
    "- `datetime`: a datatime object used to indicate when the event took place.\n",
    "  \n",
    "As you probably have notices, I skipped a few columns. That is because these columns are specific for Metrica, not all event data providers provide this data, and therefore these columns are not present in all event data dataframes.\n",
    "\n",
    "- `to_player_id` and `to_player_name`: Metrica sometimes indicate to which player the ball was passed. Since metrica indicates this information, we add it in the dataframe, but this column is not present for event data providers that do not indicate this in their data.\n",
    "- `end_x` and `end_y`: the coordinate, indicated by the event data provider, where the event ended. Note that these coordinates are scaled to fit the tracking data. Also, this is again Metrica specific data, not all event data providers provide this data.\n",
    "- `td_frame`: since this match uses tracking and event data from `Metrica`, the two are already synchronised. The `td_frame` indicates what frame in the tracking data belongs to the event to get contextual information of that event.\n",
    "\n",
    "\n",
    "Here is an example of what an event in the event data looks like:"
   ]
  },
  {
   "cell_type": "code",
   "execution_count": 8,
   "metadata": {},
   "outputs": [
    {
     "name": "stdout",
     "output_type": "stream",
     "text": [
      "event_id                                          14\n",
      "type_id                                            1\n",
      "databallpy_event                                pass\n",
      "period_id                                          1\n",
      "minutes                                            0\n",
      "seconds                                        28.88\n",
      "player_id                                       3570\n",
      "player_name                                 Player 3\n",
      "team_id                                      FIFATMA\n",
      "outcome                                            1\n",
      "start_x                                     -32.9574\n",
      "start_y                                    -24.63232\n",
      "to_player_id                                    3578\n",
      "to_player_name                             Player 11\n",
      "end_x                                      -48.33255\n",
      "end_y                                       -8.37284\n",
      "td_frame                                         722\n",
      "metrica_event                                   pass\n",
      "datetime            2019-02-21 03:30:35.840000+00:00\n",
      "Name: 13, dtype: object\n"
     ]
    }
   ],
   "source": [
    "print(match.event_data.iloc[13])"
   ]
  },
  {
   "cell_type": "markdown",
   "metadata": {},
   "source": [
    "```{important}\n",
    "This is the only preprocessing that is done to the event data:\n",
    "- Scaling of coordinate so that they represent meters\n",
    "- Translating of coordinate so that the center of the pitch is at (0, 0)\n",
    "- Mirroring the data for specific events so that the home team is represented as playing from left (low x values) to right (high x values) for **the full match**.\n",
    "```"
   ]
  },
  {
   "cell_type": "markdown",
   "metadata": {},
   "source": [
    "# Conclusion\n",
    "\n",
    "In this chapter we have gone over the loading of a match, and the different attributes that are stored in the `Match` object. We have seen that the `Match` object contains all information you need to get started with your analysis. As you have seen, the `Match` is really all you need to get started with your analysis. However, in the next chapter we will go over some additional features that are available in the package. \n",
    "\n",
    "```{note}\n",
    "If you have any questions, suggestions, or improvements, please open an issue [here](https://www.github.com/Alek050/databallpy/issues/)\n",
    "```"
   ]
  }
 ],
 "metadata": {
  "kernelspec": {
   "display_name": "Python 3 (ipykernel)",
   "language": "python",
   "name": "python3"
  },
  "language_info": {
   "codemirror_mode": {
    "name": "ipython",
    "version": 3
   },
   "file_extension": ".py",
   "mimetype": "text/x-python",
   "name": "python",
   "nbconvert_exporter": "python",
   "pygments_lexer": "ipython3",
   "version": "3.12.0"
  },
  "widgets": {
   "application/vnd.jupyter.widget-state+json": {
    "state": {},
    "version_major": 2,
    "version_minor": 0
   }
  }
 },
 "nbformat": 4,
 "nbformat_minor": 4
}
