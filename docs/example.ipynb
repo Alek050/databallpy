{
 "cells": [
  {
   "attachments": {},
   "cell_type": "markdown",
   "metadata": {},
   "source": [
    "# Example usage\n",
    "\n",
    "This notebook will show how to get started with the `databallpy` package. The package is build around the `Match` class. All information about match is saved in this class. Amoung others, the class has attributes `tracking_data`, `event_data`, `home_players`, `away_score`, and `home_formation`. For more information on the `Match` class see our [documentation](https://databallpy.readthedocs.io/en/latest/autoapi/databallpy/index.html \"databallpy documentation\"). \n",
    "\n",
    "To use obtain a `Match` using `databallpy` in a project, run the following code:"
   ]
  },
  {
   "cell_type": "code",
   "execution_count": 1,
   "metadata": {},
   "outputs": [],
   "source": [
    "import sys\n",
    "!{sys.executable} -m pip install --upgrade pip --quiet\n",
    "!{sys.executable} -m pip install databallpy --quiet"
   ]
  },
  {
   "cell_type": "code",
   "execution_count": 2,
   "metadata": {},
   "outputs": [
    {
     "name": "stdout",
     "output_type": "stream",
     "text": [
      "0.2.3\n"
     ]
    }
   ],
   "source": [
    "import databallpy\n",
    "print(databallpy.__version__)"
   ]
  },
  {
   "cell_type": "code",
   "execution_count": 3,
   "metadata": {},
   "outputs": [
    {
     "name": "stdout",
     "output_type": "stream",
     "text": [
      "Downloading Metrica open tracking data... Done!\n",
      "Downloading Metrica open event data... Done!\n"
     ]
    }
   ],
   "source": [
    "# obtain a match object\n",
    "from databallpy import get_match, get_open_match\n",
    "\n",
    "# get match from private data\n",
    "# match = get_match(\n",
    "#     tracking_data_loc=\"../data/test tracking data.dat\",\n",
    "#     tracking_metadata_loc=\"../data/test metadata.xml\",\n",
    "#     tracking_data_provider=\"tracab\",\n",
    "#     event_data_loc=\"../data/test f24.xml\",\n",
    "#     event_metadata_loc=\"../data/test f7.xml\",\n",
    "#     event_data_provider=\"opta\"   \n",
    "# )\n",
    "\n",
    "# or use open metric data\n",
    "match = get_open_match(verbose=False)"
   ]
  },
  {
   "cell_type": "code",
   "execution_count": 4,
   "metadata": {},
   "outputs": [
    {
     "data": {
      "text/html": [
       "<div>\n",
       "<style scoped>\n",
       "    .dataframe tbody tr th:only-of-type {\n",
       "        vertical-align: middle;\n",
       "    }\n",
       "\n",
       "    .dataframe tbody tr th {\n",
       "        vertical-align: top;\n",
       "    }\n",
       "\n",
       "    .dataframe thead th {\n",
       "        text-align: right;\n",
       "    }\n",
       "</style>\n",
       "<table border=\"1\" class=\"dataframe\">\n",
       "  <thead>\n",
       "    <tr style=\"text-align: right;\">\n",
       "      <th></th>\n",
       "      <th>timestamp</th>\n",
       "      <th>ball_x</th>\n",
       "      <th>ball_y</th>\n",
       "      <th>home_1_x</th>\n",
       "      <th>away_20_y</th>\n",
       "    </tr>\n",
       "  </thead>\n",
       "  <tbody>\n",
       "    <tr>\n",
       "      <th>365</th>\n",
       "      <td>366</td>\n",
       "      <td>-0.05040</td>\n",
       "      <td>0.87108</td>\n",
       "      <td>-14.39025</td>\n",
       "      <td>5.66984</td>\n",
       "    </tr>\n",
       "    <tr>\n",
       "      <th>366</th>\n",
       "      <td>367</td>\n",
       "      <td>-0.03360</td>\n",
       "      <td>0.87176</td>\n",
       "      <td>-14.36190</td>\n",
       "      <td>5.68412</td>\n",
       "    </tr>\n",
       "    <tr>\n",
       "      <th>367</th>\n",
       "      <td>368</td>\n",
       "      <td>-0.01680</td>\n",
       "      <td>0.87244</td>\n",
       "      <td>-14.33355</td>\n",
       "      <td>5.70180</td>\n",
       "    </tr>\n",
       "    <tr>\n",
       "      <th>368</th>\n",
       "      <td>369</td>\n",
       "      <td>-0.00000</td>\n",
       "      <td>0.87380</td>\n",
       "      <td>-14.30625</td>\n",
       "      <td>5.71472</td>\n",
       "    </tr>\n",
       "    <tr>\n",
       "      <th>369</th>\n",
       "      <td>370</td>\n",
       "      <td>0.01575</td>\n",
       "      <td>0.87448</td>\n",
       "      <td>-14.27895</td>\n",
       "      <td>5.72900</td>\n",
       "    </tr>\n",
       "    <tr>\n",
       "      <th>370</th>\n",
       "      <td>371</td>\n",
       "      <td>0.03255</td>\n",
       "      <td>0.87516</td>\n",
       "      <td>-14.24955</td>\n",
       "      <td>5.73784</td>\n",
       "    </tr>\n",
       "    <tr>\n",
       "      <th>371</th>\n",
       "      <td>372</td>\n",
       "      <td>0.04935</td>\n",
       "      <td>0.87584</td>\n",
       "      <td>-14.22015</td>\n",
       "      <td>5.74872</td>\n",
       "    </tr>\n",
       "    <tr>\n",
       "      <th>372</th>\n",
       "      <td>373</td>\n",
       "      <td>0.06615</td>\n",
       "      <td>0.87652</td>\n",
       "      <td>-14.19285</td>\n",
       "      <td>5.76096</td>\n",
       "    </tr>\n",
       "    <tr>\n",
       "      <th>373</th>\n",
       "      <td>374</td>\n",
       "      <td>0.08190</td>\n",
       "      <td>0.87788</td>\n",
       "      <td>-14.16870</td>\n",
       "      <td>5.76776</td>\n",
       "    </tr>\n",
       "    <tr>\n",
       "      <th>374</th>\n",
       "      <td>375</td>\n",
       "      <td>0.09870</td>\n",
       "      <td>0.87856</td>\n",
       "      <td>-14.14560</td>\n",
       "      <td>5.78204</td>\n",
       "    </tr>\n",
       "  </tbody>\n",
       "</table>\n",
       "</div>"
      ],
      "text/plain": [
       "     timestamp   ball_x   ball_y  home_1_x  away_20_y\n",
       "365        366 -0.05040  0.87108 -14.39025    5.66984\n",
       "366        367 -0.03360  0.87176 -14.36190    5.68412\n",
       "367        368 -0.01680  0.87244 -14.33355    5.70180\n",
       "368        369 -0.00000  0.87380 -14.30625    5.71472\n",
       "369        370  0.01575  0.87448 -14.27895    5.72900\n",
       "370        371  0.03255  0.87516 -14.24955    5.73784\n",
       "371        372  0.04935  0.87584 -14.22015    5.74872\n",
       "372        373  0.06615  0.87652 -14.19285    5.76096\n",
       "373        374  0.08190  0.87788 -14.16870    5.76776\n",
       "374        375  0.09870  0.87856 -14.14560    5.78204"
      ]
     },
     "execution_count": 4,
     "metadata": {},
     "output_type": "execute_result"
    }
   ],
   "source": [
    "match.tracking_data.iloc[365:375][[\"frame\", \"ball_x\", \"ball_y\", \"home_1_x\", \"away_20_y\"]]"
   ]
  },
  {
   "cell_type": "code",
   "execution_count": 5,
   "metadata": {},
   "outputs": [
    {
     "data": {
      "text/html": [
       "<div>\n",
       "<style scoped>\n",
       "    .dataframe tbody tr th:only-of-type {\n",
       "        vertical-align: middle;\n",
       "    }\n",
       "\n",
       "    .dataframe tbody tr th {\n",
       "        vertical-align: top;\n",
       "    }\n",
       "\n",
       "    .dataframe thead th {\n",
       "        text-align: right;\n",
       "    }\n",
       "</style>\n",
       "<table border=\"1\" class=\"dataframe\">\n",
       "  <thead>\n",
       "    <tr style=\"text-align: right;\">\n",
       "      <th></th>\n",
       "      <th>event</th>\n",
       "      <th>seconds</th>\n",
       "      <th>player_name</th>\n",
       "    </tr>\n",
       "  </thead>\n",
       "  <tbody>\n",
       "    <tr>\n",
       "      <th>0</th>\n",
       "      <td>set piece</td>\n",
       "      <td>14.44</td>\n",
       "      <td>Player 10</td>\n",
       "    </tr>\n",
       "    <tr>\n",
       "      <th>1</th>\n",
       "      <td>pass</td>\n",
       "      <td>14.44</td>\n",
       "      <td>Player 10</td>\n",
       "    </tr>\n",
       "    <tr>\n",
       "      <th>2</th>\n",
       "      <td>carry</td>\n",
       "      <td>15.08</td>\n",
       "      <td>Player 7</td>\n",
       "    </tr>\n",
       "    <tr>\n",
       "      <th>3</th>\n",
       "      <td>pass</td>\n",
       "      <td>15.36</td>\n",
       "      <td>Player 7</td>\n",
       "    </tr>\n",
       "    <tr>\n",
       "      <th>4</th>\n",
       "      <td>carry</td>\n",
       "      <td>17.04</td>\n",
       "      <td>Player 8</td>\n",
       "    </tr>\n",
       "    <tr>\n",
       "      <th>5</th>\n",
       "      <td>pass</td>\n",
       "      <td>18.60</td>\n",
       "      <td>Player 8</td>\n",
       "    </tr>\n",
       "    <tr>\n",
       "      <th>6</th>\n",
       "      <td>carry</td>\n",
       "      <td>20.28</td>\n",
       "      <td>Player 2</td>\n",
       "    </tr>\n",
       "    <tr>\n",
       "      <th>7</th>\n",
       "      <td>pass</td>\n",
       "      <td>21.20</td>\n",
       "      <td>Player 2</td>\n",
       "    </tr>\n",
       "    <tr>\n",
       "      <th>8</th>\n",
       "      <td>carry</td>\n",
       "      <td>23.20</td>\n",
       "      <td>Player 3</td>\n",
       "    </tr>\n",
       "    <tr>\n",
       "      <th>9</th>\n",
       "      <td>pass</td>\n",
       "      <td>23.92</td>\n",
       "      <td>Player 3</td>\n",
       "    </tr>\n",
       "  </tbody>\n",
       "</table>\n",
       "</div>"
      ],
      "text/plain": [
       "       event  seconds player_name\n",
       "0  set piece    14.44   Player 10\n",
       "1       pass    14.44   Player 10\n",
       "2      carry    15.08    Player 7\n",
       "3       pass    15.36    Player 7\n",
       "4      carry    17.04    Player 8\n",
       "5       pass    18.60    Player 8\n",
       "6      carry    20.28    Player 2\n",
       "7       pass    21.20    Player 2\n",
       "8      carry    23.20    Player 3\n",
       "9       pass    23.92    Player 3"
      ]
     },
     "execution_count": 5,
     "metadata": {},
     "output_type": "execute_result"
    }
   ],
   "source": [
    "match.event_data.iloc[:10][[\"event\", \"seconds\", \"player_name\"]]"
   ]
  },
  {
   "cell_type": "code",
   "execution_count": 6,
   "metadata": {},
   "outputs": [
    {
     "data": {
      "text/html": [
       "<div>\n",
       "<style scoped>\n",
       "    .dataframe tbody tr th:only-of-type {\n",
       "        vertical-align: middle;\n",
       "    }\n",
       "\n",
       "    .dataframe tbody tr th {\n",
       "        vertical-align: top;\n",
       "    }\n",
       "\n",
       "    .dataframe thead th {\n",
       "        text-align: right;\n",
       "    }\n",
       "</style>\n",
       "<table border=\"1\" class=\"dataframe\">\n",
       "  <thead>\n",
       "    <tr style=\"text-align: right;\">\n",
       "      <th></th>\n",
       "      <th>id</th>\n",
       "      <th>full_name</th>\n",
       "      <th>shirt_num</th>\n",
       "    </tr>\n",
       "  </thead>\n",
       "  <tbody>\n",
       "    <tr>\n",
       "      <th>0</th>\n",
       "      <td>3578</td>\n",
       "      <td>Player 11</td>\n",
       "      <td>11</td>\n",
       "    </tr>\n",
       "    <tr>\n",
       "      <th>1</th>\n",
       "      <td>3568</td>\n",
       "      <td>Player 1</td>\n",
       "      <td>1</td>\n",
       "    </tr>\n",
       "    <tr>\n",
       "      <th>2</th>\n",
       "      <td>3569</td>\n",
       "      <td>Player 2</td>\n",
       "      <td>2</td>\n",
       "    </tr>\n",
       "    <tr>\n",
       "      <th>3</th>\n",
       "      <td>3570</td>\n",
       "      <td>Player 3</td>\n",
       "      <td>3</td>\n",
       "    </tr>\n",
       "    <tr>\n",
       "      <th>4</th>\n",
       "      <td>3571</td>\n",
       "      <td>Player 4</td>\n",
       "      <td>4</td>\n",
       "    </tr>\n",
       "    <tr>\n",
       "      <th>5</th>\n",
       "      <td>3572</td>\n",
       "      <td>Player 5</td>\n",
       "      <td>5</td>\n",
       "    </tr>\n",
       "    <tr>\n",
       "      <th>6</th>\n",
       "      <td>3573</td>\n",
       "      <td>Player 6</td>\n",
       "      <td>6</td>\n",
       "    </tr>\n",
       "    <tr>\n",
       "      <th>7</th>\n",
       "      <td>3574</td>\n",
       "      <td>Player 7</td>\n",
       "      <td>7</td>\n",
       "    </tr>\n",
       "    <tr>\n",
       "      <th>8</th>\n",
       "      <td>3575</td>\n",
       "      <td>Player 8</td>\n",
       "      <td>8</td>\n",
       "    </tr>\n",
       "    <tr>\n",
       "      <th>9</th>\n",
       "      <td>3576</td>\n",
       "      <td>Player 9</td>\n",
       "      <td>9</td>\n",
       "    </tr>\n",
       "  </tbody>\n",
       "</table>\n",
       "</div>"
      ],
      "text/plain": [
       "     id  full_name  shirt_num\n",
       "0  3578  Player 11         11\n",
       "1  3568   Player 1          1\n",
       "2  3569   Player 2          2\n",
       "3  3570   Player 3          3\n",
       "4  3571   Player 4          4\n",
       "5  3572   Player 5          5\n",
       "6  3573   Player 6          6\n",
       "7  3574   Player 7          7\n",
       "8  3575   Player 8          8\n",
       "9  3576   Player 9          9"
      ]
     },
     "execution_count": 6,
     "metadata": {},
     "output_type": "execute_result"
    }
   ],
   "source": [
    "match.home_players.iloc[:10][[\"id\", \"full_name\", \"shirt_num\"]]"
   ]
  },
  {
   "attachments": {},
   "cell_type": "markdown",
   "metadata": {},
   "source": [
    "# Save Match Clip\n",
    "\n",
    "A second functionality is in saving match clips of the event data. To save a match clip, run the following code:"
   ]
  },
  {
   "cell_type": "code",
   "execution_count": 7,
   "metadata": {},
   "outputs": [],
   "source": [
    "from databallpy.visualize import save_match_clip\n",
    "\n",
    "# saving match clip from the index 1065 to 1165, with a frame rate of 25 fps (4 seconds of the match).\n",
    "save_match_clip(match, 1065,1165, save_folder=\"example_data\", title=\"example\", verbose=False)"
   ]
  },
  {
   "cell_type": "code",
   "execution_count": 8,
   "metadata": {},
   "outputs": [
    {
     "data": {
      "text/html": [
       "\n",
       "    <video alt=\"save match clip\" width=\"640\" height=\"480\" controls>\n",
       "        <source src=\"https://raw.githubusercontent.com/Alek050/databallpy/main/docs/example_data/example.mp4\" type=\"video/mp4\">\n",
       "    </video>\n"
      ],
      "text/plain": [
       "<IPython.core.display.HTML object>"
      ]
     },
     "execution_count": 8,
     "metadata": {},
     "output_type": "execute_result"
    }
   ],
   "source": [
    "from IPython.display import HTML\n",
    "\n",
    "HTML(\"\"\"\n",
    "    <video alt=\"save match clip\" width=\"640\" height=\"480\" controls>\n",
    "        <source src=\"https://raw.githubusercontent.com/Alek050/databallpy/main/docs/example_data/example.mp4\" type=\"video/mp4\">\n",
    "    </video>\n",
    "\"\"\")"
   ]
  },
  {
   "attachments": {},
   "cell_type": "markdown",
   "metadata": {},
   "source": [
    "# Plot events\n",
    "\n",
    "Also, events can be plotted. You can specify the event, the outcome, the player, and the team. For instance, if you want all passes of the home team plotted, colored by the outcome of the pass you can use the following code:"
   ]
  },
  {
   "cell_type": "code",
   "execution_count": 9,
   "metadata": {},
   "outputs": [
    {
     "name": "stdout",
     "output_type": "stream",
     "text": [
      "Found 20 matching events\n"
     ]
    },
    {
     "data": {
      "image/png": "[encoded data removed]",
      "text/plain": [
       "<Figure size 1200x800 with 1 Axes>"
      ]
     },
     "metadata": {},
     "output_type": "display_data"
    }
   ],
   "source": [
    "from databallpy.visualize import plot_events\n",
    "import matplotlib.pyplot as plt\n",
    "\n",
    "fig, ax = plot_events(match, events=[\"shot\"], color_by_col=\"team_id\", title=\"shots\")\n",
    "plt.show()"
   ]
  },
  {
   "attachments": {},
   "cell_type": "markdown",
   "metadata": {},
   "source": [
    "As you can see, the home team is represented as playing from left to right for the whole match and the away team from right to left, this is the same for the tracking data."
   ]
  },
  {
   "attachments": {},
   "cell_type": "markdown",
   "metadata": {},
   "source": [
    "# Synchronise tracking and event data\n",
    "\n",
    "Lastly, you can also smartly synchronise the tracking and event data. Synchronisation of tracking and event data is usefull when making, for example, expected goal models. Often the event and tracking data do not perfectly align on match time alone. Our model uses the Needleman-Wunsch algorithm proposed by [this](https://kwiatkowski.io/sync.soccer) article to synchronize the data.\n",
    "\n",
    "Note: for Metrica data is not really useful since they deliver synchronised event and tracking data, however, when you have tracking data from a different provider as the event data ( for instance Tracab and Opta), this function is very usefull.\n",
    "\n",
    "To synchronise the tracking and event data run:"
   ]
  },
  {
   "cell_type": "code",
   "execution_count": 10,
   "metadata": {},
   "outputs": [
    {
     "data": {
      "text/html": [
       "<div>\n",
       "<style scoped>\n",
       "    .dataframe tbody tr th:only-of-type {\n",
       "        vertical-align: middle;\n",
       "    }\n",
       "\n",
       "    .dataframe tbody tr th {\n",
       "        vertical-align: top;\n",
       "    }\n",
       "\n",
       "    .dataframe thead th {\n",
       "        text-align: right;\n",
       "    }\n",
       "</style>\n",
       "<table border=\"1\" class=\"dataframe\">\n",
       "  <thead>\n",
       "    <tr style=\"text-align: right;\">\n",
       "      <th></th>\n",
       "      <th>event</th>\n",
       "      <th>event_id</th>\n",
       "    </tr>\n",
       "  </thead>\n",
       "  <tbody>\n",
       "    <tr>\n",
       "      <th>360</th>\n",
       "      <td>pass</td>\n",
       "      <td>2.0</td>\n",
       "    </tr>\n",
       "    <tr>\n",
       "      <th>383</th>\n",
       "      <td>pass</td>\n",
       "      <td>4.0</td>\n",
       "    </tr>\n",
       "    <tr>\n",
       "      <th>464</th>\n",
       "      <td>pass</td>\n",
       "      <td>6.0</td>\n",
       "    </tr>\n",
       "    <tr>\n",
       "      <th>529</th>\n",
       "      <td>pass</td>\n",
       "      <td>8.0</td>\n",
       "    </tr>\n",
       "    <tr>\n",
       "      <th>597</th>\n",
       "      <td>pass</td>\n",
       "      <td>10.0</td>\n",
       "    </tr>\n",
       "    <tr>\n",
       "      <th>...</th>\n",
       "      <td>...</td>\n",
       "      <td>...</td>\n",
       "    </tr>\n",
       "    <tr>\n",
       "      <th>143122</th>\n",
       "      <td>pass</td>\n",
       "      <td>3610.0</td>\n",
       "    </tr>\n",
       "    <tr>\n",
       "      <th>143189</th>\n",
       "      <td>pass</td>\n",
       "      <td>3612.0</td>\n",
       "    </tr>\n",
       "    <tr>\n",
       "      <th>143265</th>\n",
       "      <td>pass</td>\n",
       "      <td>3613.0</td>\n",
       "    </tr>\n",
       "    <tr>\n",
       "      <th>143405</th>\n",
       "      <td>pass</td>\n",
       "      <td>3616.0</td>\n",
       "    </tr>\n",
       "    <tr>\n",
       "      <th>143468</th>\n",
       "      <td>pass</td>\n",
       "      <td>3617.0</td>\n",
       "    </tr>\n",
       "  </tbody>\n",
       "</table>\n",
       "<p>1481 rows × 2 columns</p>\n",
       "</div>"
      ],
      "text/plain": [
       "       event  event_id\n",
       "360     pass       2.0\n",
       "383     pass       4.0\n",
       "464     pass       6.0\n",
       "529     pass       8.0\n",
       "597     pass      10.0\n",
       "...      ...       ...\n",
       "143122  pass    3610.0\n",
       "143189  pass    3612.0\n",
       "143265  pass    3613.0\n",
       "143405  pass    3616.0\n",
       "143468  pass    3617.0\n",
       "\n",
       "[1481 rows x 2 columns]"
      ]
     },
     "execution_count": 10,
     "metadata": {},
     "output_type": "execute_result"
    }
   ],
   "source": [
    "import pandas as pd\n",
    "\n",
    "match.synchronise_tracking_and_event_data(n_batches_per_half=100, verbose=False)\n",
    "match.tracking_data.loc[~pd.isnull(match.tracking_data[\"event\"]), [\"event\", \"event_id\"]]"
   ]
  },
  {
   "attachments": {},
   "cell_type": "markdown",
   "metadata": {},
   "source": [
    "Now all relevant events are coupled to specific frames of the tracking data."
   ]
  },
  {
   "cell_type": "code",
   "execution_count": 11,
   "metadata": {},
   "outputs": [],
   "source": [
    "# to check, for instance run:\n",
    "save_match_clip(match, 10300, 11000, save_folder=\"example_data\", title=\"synced_metrica\", events=[\"pass\"], verbose=False)"
   ]
  },
  {
   "cell_type": "code",
   "execution_count": 12,
   "metadata": {},
   "outputs": [
    {
     "data": {
      "text/html": [
       "\n",
       "    <video alt=\"save match clip\" width=\"640\" height=\"480\" controls>\n",
       "        <source src=\"https://raw.githubusercontent.com/Alek050/databallpy/main/docs/example_data/metrica_synced.mp4\" type=\"video/mp4\">\n",
       "    </video>\n"
      ],
      "text/plain": [
       "<IPython.core.display.HTML object>"
      ]
     },
     "execution_count": 12,
     "metadata": {},
     "output_type": "execute_result"
    }
   ],
   "source": [
    "HTML(\"\"\"\n",
    "    <video alt=\"save match clip\" width=\"640\" height=\"480\" controls>\n",
    "        <source src=\"https://raw.githubusercontent.com/Alek050/databallpy/main/docs/example_data/synced_metrica.mp4\" type=\"video/mp4\">\n",
    "    </video>\n",
    "\"\"\")"
   ]
  },
  {
   "cell_type": "code",
   "execution_count": null,
   "metadata": {},
   "outputs": [],
   "source": []
  }
 ],
 "metadata": {
  "kernelspec": {
   "display_name": "Python 3 (ipykernel)",
   "language": "python",
   "name": "python3"
  },
  "language_info": {
   "codemirror_mode": {
    "name": "ipython",
    "version": 3
   },
   "file_extension": ".py",
   "mimetype": "text/x-python",
   "name": "python",
   "nbconvert_exporter": "python",
   "pygments_lexer": "ipython3",
   "version": "3.11.1"
  },
  "vscode": {
   "interpreter": {
    "hash": "1a1af0ee75eeea9e2e1ee996c87e7a2b11a0bebd85af04bb136d915cefc0abce"
   }
  }
 },
 "nbformat": 4,
 "nbformat_minor": 4
}
